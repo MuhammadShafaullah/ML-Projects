{
  "nbformat": 4,
  "nbformat_minor": 0,
  "metadata": {
    "colab": {
      "name": "Privacy_policy_summary_generator_using_ML.ipynb",
      "provenance": [],
      "collapsed_sections": []
    },
    "kernelspec": {
      "name": "python3",
      "display_name": "Python 3"
    },
    "language_info": {
      "name": "python"
    }
  },
  "cells": [
    {
      "cell_type": "markdown",
      "source": [
        "**Importing required libraries**"
      ],
      "metadata": {
        "id": "Izy_bmpAuBp-"
      }
    },
    {
      "cell_type": "code",
      "execution_count": null,
      "metadata": {
        "id": "8iskb0xqQh3E"
      },
      "outputs": [],
      "source": [
        "from sklearn.feature_extraction.text import TfidfVectorizer\n",
        "from spacy.lang.en import English\n",
        "import numpy as np"
      ]
    },
    {
      "cell_type": "markdown",
      "source": [
        "**Load spacy model for sentence tokenization**"
      ],
      "metadata": {
        "id": "sE1VW2WRuvAw"
      }
    },
    {
      "cell_type": "code",
      "source": [
        "nlp = English()\n",
        "nlp.add_pipe(nlp.create_pipe('sentencizer'))"
      ],
      "metadata": {
        "id": "bc6v3BhwQtgl"
      },
      "execution_count": null,
      "outputs": []
    },
    {
      "cell_type": "code",
      "source": [
        "text=\"\"\" To set yourself up for success, try to keep things simple. Eating a healthier diet doesn’t have to be complicated. Instead of being overly concerned with counting calories, for example, think of your diet in terms of color, variety, and freshness. Focus on avoiding packaged and processed foods and opting for more fresh ingredients whenever possible.\n",
        "Prepare more of your own meals. Cooking more meals at home can help you take charge of what you’re eating and better monitor exactly what goes into your food. You’ll eat fewer calories and avoid the chemical additives, added sugar, and unhealthy fats of packaged and takeout foods that can leave you feeling tired, bloated, and irritable, and exacerbate symptoms of depression, stress, and anxiety.\n",
        "Make the right changes. When cutting back on unhealthy foods in your diet, it’s important to replace them with healthy alternatives. Replacing dangerous trans fats with healthy fats (such as switching fried chicken for grilled salmon) will make a positive difference to your health. Switching animal fats for refined carbohydrates, though (such as switching your breakfast bacon for a donut), won’t lower your risk for heart disease or improve your mood.\n",
        "Read the labels. It’s important to be aware of what’s in your food as manufacturers often hide large amounts of sugar or unhealthy fats in packaged food, even food claiming to be healthy.Focus on how you feel after eating. This will help foster healthy new habits and tastes. The healthier the food you eat, the better you’ll feel after a meal. The more junk food you eat, the more likely you are to feel uncomfortable, nauseous, or drained of energy \"\"\""
      ],
      "metadata": {
        "id": "goOgEcjYvs_T"
      },
      "execution_count": null,
      "outputs": []
    },
    {
      "cell_type": "markdown",
      "source": [
        "**Create spacy document for further sentence level tokenization**"
      ],
      "metadata": {
        "id": "mlS_lgXiu7Tg"
      }
    },
    {
      "cell_type": "code",
      "source": [
        "doc = nlp(text.replace(\"\\n\", \"\"))\n",
        "sentences = [sent.string.strip() for sent in doc.sents]"
      ],
      "metadata": {
        "id": "_HKxRbQ2RB8K"
      },
      "execution_count": null,
      "outputs": []
    },
    {
      "cell_type": "markdown",
      "source": [
        "**Peeking into our tokenized sentences**"
      ],
      "metadata": {
        "id": "dciTQDukwQcc"
      }
    },
    {
      "cell_type": "code",
      "source": [
        "print(\"Senetence are: \\n\", sentences)"
      ],
      "metadata": {
        "colab": {
          "base_uri": "https://localhost:8080/"
        },
        "id": "35JFu-vnROfy",
        "outputId": "99db1712-f08e-4b42-eb67-edc4ef11b2da"
      },
      "execution_count": null,
      "outputs": [
        {
          "output_type": "stream",
          "name": "stdout",
          "text": [
            "Senetence are: \n",
            " ['To set yourself up for success, try to keep things simple.', 'Eating a healthier diet doesn’t have to be complicated.', 'Instead of being overly concerned with counting calories, for example, think of your diet in terms of color, variety, and freshness.', 'Focus on avoiding packaged and processed foods and opting for more fresh ingredients whenever possible.', 'Prepare more of your own meals.', 'Cooking more meals at home can help you take charge of what you’re eating and better monitor exactly what goes into your food.', 'You’ll eat fewer calories and avoid the chemical additives, added sugar, and unhealthy fats of packaged and takeout foods that can leave you feeling tired, bloated, and irritable, and exacerbate symptoms of depression, stress, and anxiety.', 'Make the right changes.', 'When cutting back on unhealthy foods in your diet, it’s important to replace them with healthy alternatives.', 'Replacing dangerous trans fats with healthy fats (such as switching fried chicken for grilled salmon) will make a positive difference to your health.', 'Switching animal fats for refined carbohydrates, though (such as switching your breakfast bacon for a donut), won’t lower your risk for heart disease or improve your mood.', 'Read the labels.', 'It’s important to be aware of what’s in your food as manufacturers often hide large amounts of sugar or unhealthy fats in packaged food, even food claiming to be healthy.', 'Focus on how you feel after eating.', 'This will help foster healthy new habits and tastes.', 'The healthier the food you eat, the better you’ll feel after a meal.', 'The more junk food you eat, the more likely you are to feel uncomfortable, nauseous, or drained of energy']\n"
          ]
        }
      ]
    },
    {
      "cell_type": "markdown",
      "source": [
        "**Creating sentence organizer**"
      ],
      "metadata": {
        "id": "ovNXkVppwit5"
      }
    },
    {
      "cell_type": "code",
      "source": [
        "# Let's create an organizer which will store the sentence ordering to later reorganize the \n",
        "# scored sentences in their correct order\n",
        "sentence_organizer = {k:v for v,k in enumerate(sentences)}"
      ],
      "metadata": {
        "id": "MIkWTLA8RTzS"
      },
      "execution_count": null,
      "outputs": []
    },
    {
      "cell_type": "markdown",
      "source": [
        "**Peeking into our sentence organizer**"
      ],
      "metadata": {
        "id": "CrwrY5Yewt5v"
      }
    },
    {
      "cell_type": "code",
      "source": [
        "print(\"Our sentence organizer: \\n\", sentence_organizer)"
      ],
      "metadata": {
        "colab": {
          "base_uri": "https://localhost:8080/"
        },
        "id": "luU-RXdERa1y",
        "outputId": "c092ba76-fe55-4b1b-9515-f3d1b5dde553"
      },
      "execution_count": null,
      "outputs": [
        {
          "output_type": "stream",
          "name": "stdout",
          "text": [
            "Our sentence organizer: \n",
            " {'To set yourself up for success, try to keep things simple.': 0, 'Eating a healthier diet doesn’t have to be complicated.': 1, 'Instead of being overly concerned with counting calories, for example, think of your diet in terms of color, variety, and freshness.': 2, 'Focus on avoiding packaged and processed foods and opting for more fresh ingredients whenever possible.': 3, 'Prepare more of your own meals.': 4, 'Cooking more meals at home can help you take charge of what you’re eating and better monitor exactly what goes into your food.': 5, 'You’ll eat fewer calories and avoid the chemical additives, added sugar, and unhealthy fats of packaged and takeout foods that can leave you feeling tired, bloated, and irritable, and exacerbate symptoms of depression, stress, and anxiety.': 6, 'Make the right changes.': 7, 'When cutting back on unhealthy foods in your diet, it’s important to replace them with healthy alternatives.': 8, 'Replacing dangerous trans fats with healthy fats (such as switching fried chicken for grilled salmon) will make a positive difference to your health.': 9, 'Switching animal fats for refined carbohydrates, though (such as switching your breakfast bacon for a donut), won’t lower your risk for heart disease or improve your mood.': 10, 'Read the labels.': 11, 'It’s important to be aware of what’s in your food as manufacturers often hide large amounts of sugar or unhealthy fats in packaged food, even food claiming to be healthy.': 12, 'Focus on how you feel after eating.': 13, 'This will help foster healthy new habits and tastes.': 14, 'The healthier the food you eat, the better you’ll feel after a meal.': 15, 'The more junk food you eat, the more likely you are to feel uncomfortable, nauseous, or drained of energy': 16}\n"
          ]
        }
      ]
    },
    {
      "cell_type": "markdown",
      "source": [
        "**Creating TF-IDF model**"
      ],
      "metadata": {
        "id": "W0hqU87dw1dt"
      }
    },
    {
      "cell_type": "code",
      "source": [
        "# Let's now create a tf-idf (Term frequnecy Inverse Document Frequency) model\n",
        "tf_idf_vectorizer = TfidfVectorizer(min_df=2,  max_features=None, \n",
        "                                    strip_accents='unicode', \n",
        "                                    analyzer='word',\n",
        "                                    token_pattern=r'\\w{1,}',\n",
        "                                    ngram_range=(1, 3), \n",
        "                                    use_idf=1,smooth_idf=1,\n",
        "                                    sublinear_tf=1,\n",
        "                                    stop_words = 'english')"
      ],
      "metadata": {
        "id": "F1Ab28iuRga0"
      },
      "execution_count": null,
      "outputs": []
    },
    {
      "cell_type": "code",
      "source": [
        "# Passing our sentences treating each as one document to TF-IDF vectorizer\n",
        "tf_idf_vectorizer.fit(sentences)"
      ],
      "metadata": {
        "colab": {
          "base_uri": "https://localhost:8080/"
        },
        "id": "sQUKQ2opRmq6",
        "outputId": "028d06e8-1faa-4de3-cd5a-53bb41e36ec2"
      },
      "execution_count": null,
      "outputs": [
        {
          "output_type": "execute_result",
          "data": {
            "text/plain": [
              "TfidfVectorizer(min_df=2, ngram_range=(1, 3), smooth_idf=1,\n",
              "                stop_words='english', strip_accents='unicode', sublinear_tf=1,\n",
              "                token_pattern='\\\\w{1,}', use_idf=1)"
            ]
          },
          "metadata": {},
          "execution_count": 40
        }
      ]
    },
    {
      "cell_type": "code",
      "source": [
        "# Transforming our sentences to TF-IDF vectors\n",
        "sentence_vectors = tf_idf_vectorizer.transform(sentences)"
      ],
      "metadata": {
        "id": "Sl6Wpd0DRsQ7"
      },
      "execution_count": null,
      "outputs": []
    },
    {
      "cell_type": "markdown",
      "source": [
        "**Performing sentence scoring**"
      ],
      "metadata": {
        "id": "P3FHr22fw__A"
      }
    },
    {
      "cell_type": "code",
      "source": [
        "# Getting sentence scores for each sentences\n",
        "sentence_scores = np.array(sentence_vectors.sum(axis=1)).ravel()\n",
        "\n",
        "# Sanity checkup\n",
        "print(len(sentences) == len(sentence_scores))"
      ],
      "metadata": {
        "colab": {
          "base_uri": "https://localhost:8080/"
        },
        "id": "5UvgEgAmR1Fh",
        "outputId": "9cb5faa5-d586-40ed-c373-6faac5955423"
      },
      "execution_count": null,
      "outputs": [
        {
          "output_type": "stream",
          "name": "stdout",
          "text": [
            "True\n"
          ]
        }
      ]
    },
    {
      "cell_type": "code",
      "source": [
        "# Getting top-n sentences\n",
        "N = 3\n",
        "top_n_sentences = [sentences[ind] for ind in np.argsort(sentence_scores, axis=0)[::-1][:N]]"
      ],
      "metadata": {
        "id": "aqst-sW_R_ZS"
      },
      "execution_count": null,
      "outputs": []
    },
    {
      "cell_type": "markdown",
      "source": [
        "**Performing final summarization**"
      ],
      "metadata": {
        "id": "1DBXBRG6xKfB"
      }
    },
    {
      "cell_type": "code",
      "source": [
        "# Let's now do the sentence ordering using our prebaked sentence_organizer\n",
        "# Let's map the scored sentences with their indexes\n",
        "mapped_top_n_sentences = [(sentence,sentence_organizer[sentence]) for sentence in top_n_sentences]\n",
        "print(\"Our top_n_sentence with their index: \\n\")\n",
        "for element in mapped_top_n_sentences:\n",
        "    print(element)\n",
        "\n",
        "# Ordering our top-n sentences in their original ordering\n",
        "mapped_top_n_sentences = sorted(mapped_top_n_sentences, key = lambda x: x[1])\n",
        "ordered_scored_sentences = [element[0] for element in mapped_top_n_sentences]\n",
        "\n",
        "# Our final summary\n",
        "summary = \" \".join(ordered_scored_sentences)"
      ],
      "metadata": {
        "colab": {
          "base_uri": "https://localhost:8080/"
        },
        "id": "9NSEIWAASITa",
        "outputId": "1ae7d504-375c-4b3c-c222-867f489bb32e"
      },
      "execution_count": null,
      "outputs": [
        {
          "output_type": "stream",
          "name": "stdout",
          "text": [
            "Our top_n_sentence with their index: \n",
            "\n",
            "('It’s important to be aware of what’s in your food as manufacturers often hide large amounts of sugar or unhealthy fats in packaged food, even food claiming to be healthy.', 12)\n",
            "('You’ll eat fewer calories and avoid the chemical additives, added sugar, and unhealthy fats of packaged and takeout foods that can leave you feeling tired, bloated, and irritable, and exacerbate symptoms of depression, stress, and anxiety.', 6)\n",
            "('When cutting back on unhealthy foods in your diet, it’s important to replace them with healthy alternatives.', 8)\n"
          ]
        }
      ]
    },
    {
      "cell_type": "markdown",
      "source": [
        "**Result / Summary**"
      ],
      "metadata": {
        "id": "AxhHHwzIxTeT"
      }
    },
    {
      "cell_type": "code",
      "source": [
        "print(\"Summary: \\n\", summary)"
      ],
      "metadata": {
        "colab": {
          "base_uri": "https://localhost:8080/"
        },
        "id": "3WYh-m-FSQl9",
        "outputId": "769db04b-9ba7-49db-c2a3-e758f0993431"
      },
      "execution_count": null,
      "outputs": [
        {
          "output_type": "stream",
          "name": "stdout",
          "text": [
            "Summary: \n",
            " You’ll eat fewer calories and avoid the chemical additives, added sugar, and unhealthy fats of packaged and takeout foods that can leave you feeling tired, bloated, and irritable, and exacerbate symptoms of depression, stress, and anxiety. When cutting back on unhealthy foods in your diet, it’s important to replace them with healthy alternatives. It’s important to be aware of what’s in your food as manufacturers often hide large amounts of sugar or unhealthy fats in packaged food, even food claiming to be healthy.\n"
          ]
        }
      ]
    },
    {
      "cell_type": "code",
      "source": [
        ""
      ],
      "metadata": {
        "id": "BfPJ7-3vxa0c"
      },
      "execution_count": null,
      "outputs": []
    },
    {
      "cell_type": "code",
      "source": [
        ""
      ],
      "metadata": {
        "id": "nBtSnK6Axako"
      },
      "execution_count": null,
      "outputs": []
    },
    {
      "cell_type": "code",
      "source": [
        ""
      ],
      "metadata": {
        "id": "wjo2YuT5xaaj"
      },
      "execution_count": null,
      "outputs": []
    },
    {
      "cell_type": "code",
      "source": [
        ""
      ],
      "metadata": {
        "id": "QP3KftKaxaPY"
      },
      "execution_count": null,
      "outputs": []
    },
    {
      "cell_type": "markdown",
      "source": [
        "**Reading Privacy Policy Text file**"
      ],
      "metadata": {
        "id": "8njZNSdgzT0A"
      }
    },
    {
      "cell_type": "code",
      "source": [
        "f = open(\"test.txt\", \"r\")\n",
        "read=f.read()\n",
        "print(read)"
      ],
      "metadata": {
        "colab": {
          "base_uri": "https://localhost:8080/"
        },
        "id": "Nzg9ZkNzmBzy",
        "outputId": "f42f9cd2-a150-498a-f9bf-422c79812d78"
      },
      "execution_count": null,
      "outputs": [
        {
          "output_type": "stream",
          "name": "stdout",
          "text": [
            "Dhoby Ghaut MRT station is an underground Mass Rapid Transit (MRT) interchange station on the North South, North East and Circle lines in Singapore. Located beneath the eastern end of Orchard Road shopping belt in Dhoby Ghaut, Museum Planning Area, the station is integrated with the commercial development The Atrium@Orchard. The station is near landmarks such as The Istana, the MacDonald House, Plaza Singapura and Dhoby Ghaut Green.\n",
            "Dhoby Ghaut station was part of the early plans for the original MRT network since 1982. It was constructed as part of Phase I of the MRT network which was completed in 1987. Following the network's operational split, the station has been served by the North South line since 1989. To construct the North East line platforms, which were completed in 2003, the Stamford Canal had to be diverted while excavating through part of Mount Sophia. The Circle line platforms opened in 2010 along with Stages 1 and 2 of the line.\n",
            "The only triple-line MRT interchange station in Singapore, Dhoby Ghaut station is one of the deepest and largest stations with five basement levels. Its deepest point is at 28 metres (92 ft) below ground. The station features many forms of artworks, three of them under the Art-in-Transit scheme in the North East line and Circle line stations, a pair of Art Seats at the Circle line platforms and an art piece above theDhoby Ghaut station was included in the early plans of the MRT network in May 1982.[8] It was to be constructed as part of the Phase I MRT segment from the Novena to Outram Park station.[9] This segment was targeted to be completed by December 1987.[10] Phase I, which would be part of the North South line (NSL), was given priority as it passes through areas having a higher demand for public transport, such as the densely populated housing estates of Toa Payoh and Ang Mo Kio and the Central Area. The line was aimed to relieve the traffic congestion on the Thomson–Sembawang road corridor.[11][12]\n",
            "Before construction began, tenants of Amber Mansions[note 1] were compelled to relocate; the land had already been marked for acquisition in 1978.[14] Contract 106 for the design and construction of Dhoby Ghaut NSL station was awarded to a joint venture between French contractor Campenon-Bernard and Singapore Piling and Civil Engineering Company Limited.[15] The S$51.3 million (US$66 million in 2020) contract, awarded in October 1983, included three kilometres (1.9 mi) of tunnelling works between the Somerset and City Hall stations.[15][16]\n",
            "Due to the soft marine clay at the station site,[17] jet grouting was used to stabilise the soil.[18] In January 1985, the soft soil led to a tunnel cave-in, which formed a six-metre (20 ft) wide hole near Cathay Cinema.[19] The hole was refilled and the soil was further strengthened by injecting a concrete mixture.[17] On 17 June, an engineer died when a crane fell into the work shaft and crushed him.[20][21] Investigations revealed that the three pieces of timber intended to support the crane were not properly fastened and inadequate in providing support.[22] The contractor was fined S$1,000 (US$1,234 in 2020) for failing to ensure that the crane was capable of handling the load.[23] Despite the incidents, structural work for the station was completed that September.[24]\n",
            "To help people to become more familiar with the system, the Mass Rapid Transit Corporation (MRTC) organised an open house at the station on 6 December 1987.[25] Train services commenced on 12 December when the line extension to Outram Park station was officially completed.[26][27] The station was part of a line service that ran continuously from Yishun station in the north to Lakeside station in the west. From 28 October 1989, it began to serve the NSL with the operational split of the MRT system.[28][note 2] In September 2000, the Land Transport Authority (LTA) installed lifts to allow barrier-free access to the station.[30]\n",
            "North East line (NEL) stationPhotograph of NEL station platforms, with curved seats, station information signages and an escalator leading to the upper levels\n",
            "NEL platforms Plans were made in 1986 for a new line from Outram Park station via Dhoby Ghaut to Punggol station in the northeast.[31] These were finalised as the North East line (NEL) in January 1996.[32][33] In August 1997, the LTA awarded Contract C707 for building the NEL station to Obayashi Corporation.[34] The S$268 million (US$266.1 million in 2020) contract included the construction of two commercial buildings above the station.[35][36] Construction began in 1996,[35] with NEL commencing services on 20 June 2003.[37]\n",
            "Construction difficulties included having to reroute the Stamford Canal, which bisected the station site, to a temporary canal. The old canal box was rebuilt and replaced by a new, larger box, which lies above the second level of the station. The new canal was temporarily supported by steel piles while the NEL station box was being constructed.[38][39] With the proximity of works near the existing NSL station and tunnels,[note 3] motion detectors had to be set up to detect any settlement of the NSL tunnels. To facilitate the station's construction, a part of Mount Sophia, the hill above the site, had to be removed. An eight-meter (26 ft) high sheet pile wall, restrained with ground anchors, supported the unaffected parts of the hill.[40]\n",
            "Another construction difficulty was the irregular shapes and varying sizes of the station's five levels bound by space constraints.[38] This made it difficult to install the site's temporary retaining walls because of the many voids in between the station levels.[40][note 4] North South line platforms\n"
          ]
        }
      ]
    },
    {
      "cell_type": "markdown",
      "source": [
        "**Creating a function using above steps**"
      ],
      "metadata": {
        "id": "APHVQpmozKW0"
      }
    },
    {
      "cell_type": "code",
      "source": [
        "def summarizer(text, tokenizer, max_sent_in_summary):\n",
        "    # Create spacy document for further sentence level tokenization\n",
        "    doc = nlp(text.replace(\"\\n\", \"\"))\n",
        "    sentences = [sent.string.strip() for sent in doc.sents]\n",
        "    # Let's create an organizer which will store the sentence ordering to later reorganize the \n",
        "    # scored sentences in their correct order\n",
        "    sentence_organizer = {k:v for v,k in enumerate(sentences)}\n",
        "    # Let's now create a tf-idf (Term frequnecy Inverse Document Frequency) model\n",
        "    tf_idf_vectorizer = TfidfVectorizer(min_df=2,  max_features=None, \n",
        "                                        strip_accents='unicode', \n",
        "                                        analyzer='word',\n",
        "                                        token_pattern=r'\\w{1,}',\n",
        "                                        ngram_range=(1, 3), \n",
        "                                        use_idf=1,smooth_idf=1,\n",
        "                                        sublinear_tf=1,\n",
        "                                        stop_words = 'english')\n",
        "    # Passing our sentences treating each as one document to TF-IDF vectorizer\n",
        "    tf_idf_vectorizer.fit(sentences)\n",
        "    # Transforming our sentences to TF-IDF vectors\n",
        "    sentence_vectors = tf_idf_vectorizer.transform(sentences)\n",
        "    # Getting sentence scores for each sentences\n",
        "    sentence_scores = np.array(sentence_vectors.sum(axis=1)).ravel()\n",
        "    # Getting top-n sentences\n",
        "    N = max_sent_in_summary\n",
        "    top_n_sentences = [sentences[ind] for ind in np.argsort(sentence_scores, axis=0)[::-1][:N]]\n",
        "    # Let's now do the sentence ordering using our prebaked sentence_organizer\n",
        "    # Let's map the scored sentences with their indexes\n",
        "    mapped_top_n_sentences = [(sentence,sentence_organizer[sentence]) for sentence in top_n_sentences]\n",
        "    # Ordering our top-n sentences in their original ordering\n",
        "    mapped_top_n_sentences = sorted(mapped_top_n_sentences, key = lambda x: x[1])\n",
        "    ordered_scored_sentences = [element[0] for element in mapped_top_n_sentences]\n",
        "    # Our final summary\n",
        "    summary = \" \".join(ordered_scored_sentences)\n",
        "    return summary"
      ],
      "metadata": {
        "id": "ZK7rWuFUSVJr"
      },
      "execution_count": null,
      "outputs": []
    },
    {
      "cell_type": "code",
      "source": [
        "print(\"Result: \\n\", summarizer(text=read,tokenizer=nlp,max_sent_in_summary=3))"
      ],
      "metadata": {
        "colab": {
          "base_uri": "https://localhost:8080/"
        },
        "id": "qt3kb0hRSk8i",
        "outputId": "42e2c2e5-ded4-4f49-d691-bb6f96900f62"
      },
      "execution_count": null,
      "outputs": [
        {
          "output_type": "stream",
          "name": "stdout",
          "text": [
            "Result: \n",
            " The station features many forms of artworks, three of them under the Art-in-Transit scheme in the North East line and Circle line stations, a pair of Art Seats at the Circle line platforms and an art piece above theDhoby Ghaut station was included in the early plans of the MRT network in May 1982.[8] It was to be constructed as part of the Phase I MRT segment from the Novena to Outram Park station.[9] This segment was targeted to be completed by December 1987.[10] Phase I, which would be part of the North South line (NSL), was given priority as it passes through areas having a higher demand for public transport, such as the densely populated housing estates of Toa Payoh and Ang Mo Kio and the Central Area. The line was aimed to relieve the traffic congestion on the Thomson–Sembawang road corridor.[11][12]Before construction began, tenants of Amber Mansions[note 1] were compelled to relocate; the land had already been marked for acquisition in 1978.[14] Contract 106 for the design and construction of Dhoby Ghaut NSL station was awarded to a joint venture between French contractor Campenon-Bernard and Singapore Piling and Civil Engineering Company Limited.[15] The S$51.3 million (US$66 million in 2020) contract, awarded in October 1983, included three kilometres (1.9 mi) of tunnelling works between the Somerset and City Hall stations.[15][16]Due to the soft marine clay at the station site,[17] jet grouting was used to stabilise the soil.[18] In January 1985, the soft soil led to a tunnel cave-in, which formed a six-metre (20 ft) wide hole near Cathay Cinema.[19] The hole was refilled and the soil was further strengthened by injecting a concrete mixture.[17] On 17 June, an engineer died when a crane fell into the work shaft and crushed him.[20][21] Investigations revealed that the three pieces of timber intended to support the crane were not properly fastened and inadequate in providing support.[22] The contractor was fined S$1,000 (US$1,234 in 2020) for failing to ensure that the crane was capable of handling the load.[23] Despite the incidents, structural work for the station was completed that September.[24]To help people to become more familiar with the system, the Mass Rapid Transit Corporation (MRTC) organised an open house at the station on 6 December 1987.[25] Train services commenced on 12 December when the line extension to Outram Park station was officially completed.[26][27] The station was part of a line service that ran continuously from Yishun station in the north to Lakeside station in the west. From 28 October 1989, it began to serve the NSL with the operational split of the MRT system.[28][note 2] In September 2000, the Land Transport Authority (LTA) installed lifts to allow barrier-free access to the station.[30]North East line (NEL) stationPhotograph of NEL station platforms, with curved seats, station information signages and an escalator leading to the upper levelsNEL platforms Plans were made in 1986 for a new line from Outram Park station via Dhoby Ghaut to Punggol station in the northeast.[31] These were finalised as the North East line (NEL) in January 1996.[32][33] In August 1997, the LTA awarded Contract C707 for building the NEL station to Obayashi Corporation.[34] The S$268 million (US$266.1 million in 2020) contract included the construction of two commercial buildings above the station.[35][36] Construction began in 1996,[35] with NEL commencing services on 20 June 2003.[37]Construction difficulties included having to reroute the Stamford Canal, which bisected the station site, to a temporary canal.\n"
          ]
        }
      ]
    }
  ]
}